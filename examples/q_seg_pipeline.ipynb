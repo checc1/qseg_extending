{
  "cells": [
    {
      "cell_type": "markdown",
      "metadata": {
        "id": "15HtXN2NoVb1"
      },
      "source": [
        "### Install Dependencies"
      ]
    },
    {
      "cell_type": "code",
      "execution_count": 123,
      "metadata": {
        "collapsed": true,
        "id": "6wMuyPtOveUd"
      },
      "outputs": [],
      "source": [
        "! pip install qiskit_optimization\n",
        "! pip install pylatexenc\n",
        "! pip install dwave-ocean-sdk\n",
        "! pip install gurobipy"
      ]
    },
    {
      "cell_type": "code",
      "execution_count": 123,
      "metadata": {
        "id": "_hWnWKG-O-sK"
      },
      "outputs": [],
      "source": []
    },
    {
      "cell_type": "markdown",
      "metadata": {
        "id": "uXwa-vSiojGG"
      },
      "source": [
        "### Import Dependencies"
      ]
    },
    {
      "cell_type": "code",
      "execution_count": null,
      "metadata": {
        "id": "R68OfxoHOiYD"
      },
      "outputs": [],
      "source": []
    },
    {
      "cell_type": "code",
      "source": [
        "from warnings import simplefilter\n",
        "simplefilter(action='ignore', category=FutureWarning)"
      ],
      "metadata": {
        "id": "5zlhFthZ_b8P"
      },
      "execution_count": 7,
      "outputs": []
    },
    {
      "cell_type": "code",
      "source": [
        "import numpy as np\n",
        "import matplotlib.pyplot as plt\n",
        "import networkx as nx\n",
        "import time\n",
        "from qiskit_optimization.applications import Maxcut\n",
        "import dimod\n",
        "from dwave.system.samplers import DWaveSampler\n",
        "from dwave.system.composites import EmbeddingComposite\n"
      ],
      "metadata": {
        "id": "OoNu99OIjPd6"
      },
      "execution_count": 59,
      "outputs": []
    },
    {
      "cell_type": "code",
      "source": [
        "# Importing functions from the modules in the qseg package\n",
        "from qseg.graph_utils import image_to_grid_graph, draw\n",
        "from qseg.dwave_utils import dwave_solver, annealer_solver\n",
        "from qseg.utils import decode_binary_string\n",
        "\n",
        "# Additional necessary imports\n",
        "import numpy as np\n",
        "import matplotlib.pyplot as plt\n",
        "import networkx as nx\n",
        "from qiskit_optimization.applications import Maxcut\n",
        "import dimod\n",
        "from dwave.system.samplers import DWaveSampler\n",
        "from dwave.system.composites import EmbeddingComposite\n"
      ],
      "metadata": {
        "id": "iX1zGOsKyzyk"
      },
      "execution_count": null,
      "outputs": []
    },
    {
      "cell_type": "markdown",
      "source": [
        "### Functions"
      ],
      "metadata": {
        "id": "40pxTVXsjvoH"
      }
    },
    {
      "cell_type": "code",
      "source": [
        "def image_to_grid_graph(gray_img, sigma=0.5):\n",
        "  h, w = gray_img.shape\n",
        "  nodes = np.zeros((h*w, 1))\n",
        "  edges = []\n",
        "  nx_elist = []\n",
        "  min_weight = 1\n",
        "  max_weight = 0\n",
        "  for i in range(h*w):\n",
        "    x, y = i//w, i%w\n",
        "    nodes[i] = gray_img[x,y]\n",
        "    if x > 0:\n",
        "      j = (x-1)*w + y\n",
        "      weight = 1-np.exp(-((gray_img[x,y] - gray_img[x-1,y])**2) / (2 * sigma**2))      # Gaussian similarity\n",
        "      edges.append((i, j, weight))\n",
        "      nx_elist.append(((x,y),(x-1,y),np.round(weight,2)))\n",
        "      if min_weight>weight:min_weight=weight\n",
        "      if max_weight<weight:max_weight=weight\n",
        "    if y > 0:\n",
        "      j = x*w + y-1\n",
        "      weight = 1-np.exp(-((gray_img[x,y] - gray_img[x,y-1])**2) / (2 * sigma**2))      # Gaussian similarity\n",
        "      edges.append((i, j, weight))\n",
        "      nx_elist.append(((x,y),(x,y-1),weight))\n",
        "      if min_weight>weight:min_weight=weight\n",
        "      if max_weight<weight:max_weight=weight\n",
        "  a=-1\n",
        "  b=1\n",
        "  if max_weight-min_weight:\n",
        "    normalized_edges = [(node1,node2,-1*np.round(((b-a)*((edge_weight-min_weight)/(max_weight-min_weight)))+a,4)) for node1,node2,edge_weight in edges]\n",
        "    normalized_nx_elist = [(node1,node2,-1*np.round(((b-a)*((edge_weight-min_weight)/(max_weight-min_weight)))+a,4)) for node1,node2,edge_weight in nx_elist]\n",
        "  elif max_weight==0 and min_weight==0:\n",
        "    normalized_edges = [(node1,node2,1) for node1,node2,edge_weight in edges]\n",
        "    normalized_nx_elist = [(node1,node2,1) for node1,node2,edge_weight in nx_elist]\n",
        "  else:\n",
        "    normalized_edges = [(node1,node2,-1*np.round(edge_weight,4)) for node1,node2,edge_weight in edges]\n",
        "    normalized_nx_elist = [(node1,node2,-1*np.round(edge_weight,4)) for node1,node2,edge_weight in nx_elist]\n",
        "  return normalized_nx_elist\n"
      ],
      "metadata": {
        "id": "1Z2lplvLj50V"
      },
      "execution_count": 126,
      "outputs": []
    },
    {
      "cell_type": "code",
      "source": [
        "def draw(G, image):\n",
        "  pixel_values = image\n",
        "  plt.figure(figsize=(min(12,2*image.shape[0]),min(12,2*image.shape[0])))\n",
        "  default_axes = plt.axes(frameon=True)\n",
        "  pos = {(x,y):(y,-x) for x,y in G.nodes()}\n",
        "  nx.draw_networkx(G,\n",
        "                  pos=pos,\n",
        "                  node_color=1-pixel_values,\n",
        "                  with_labels=True,\n",
        "                  node_size=1200,\n",
        "                  cmap=plt.cm.Greys,\n",
        "                  alpha=0.5,\n",
        "                  ax=default_axes)\n",
        "  nodes = nx.draw_networkx_nodes(G, pos, node_color=1-pixel_values,\n",
        "                  node_size=1200,\n",
        "                  cmap=plt.cm.Greys)\n",
        "  nodes.set_edgecolor('k')\n",
        "  edge_labels = nx.get_edge_attributes(G, \"weight\")\n",
        "  nx.draw_networkx_edge_labels(G,\n",
        "                              pos=pos,\n",
        "                             edge_labels=edge_labels)"
      ],
      "metadata": {
        "id": "0kJtEXHqlgMy"
      },
      "execution_count": 127,
      "outputs": []
    },
    {
      "cell_type": "code",
      "execution_count": 128,
      "metadata": {
        "id": "fikA5kV4nADw"
      },
      "outputs": [],
      "source": [
        "def dwave_solver(linear, quadratic, private_token, runs=10000, **kwargs):\n",
        "  vartype = dimod.BINARY\n",
        "  bqm = dimod.BinaryQuadraticModel(linear, quadratic, 0.0, vartype)\n",
        "  start_time = time.time()\n",
        "  dwave_sampler = DWaveSampler(token = private_token, solver={'topology__type': 'pegasus'})\n",
        "  connection_time = time.time() - start_time\n",
        "\n",
        "  start_time = time.time()\n",
        "  sampler = EmbeddingComposite(dwave_sampler)\n",
        "  embedding_time = time.time() - start_time\n",
        "  start_time = time.time()\n",
        "  sample_set = sampler.sample(bqm, num_reads=runs)\n",
        "  response_time = time.time() - start_time\n",
        "  return sample_set, connection_time, embedding_time, response_time"
      ]
    },
    {
      "cell_type": "code",
      "execution_count": 129,
      "metadata": {
        "id": "4y7N9y0znADx"
      },
      "outputs": [],
      "source": [
        "def annealer_solver(G, private_token, n_samples= 2000, **kwargs):\n",
        "  start_time = time.time()\n",
        "  w = -1 * nx.adjacency_matrix(G).todense()\n",
        "  max_cut = Maxcut(w)\n",
        "  qp = max_cut.to_quadratic_program()\n",
        "  linear = qp.objective.linear.coefficients.toarray(order=None, out=None)\n",
        "  quadratic = qp.objective.quadratic.coefficients.toarray(order=None, out=None)\n",
        "  linear = {int(idx):-round(value,2) for idx,value in enumerate(linear[0])}\n",
        "  quadratic = {(int(iy),int(ix)):-quadratic[iy, ix] for iy, ix in np.ndindex(quadratic.shape) if iy<ix and abs(quadratic[iy, ix])!=0}\n",
        "  problem_formulation_time = time.time() - start_time\n",
        "  sample_set, connection_time, embedding_time, response_time = dwave_solver(linear, quadratic, private_token, runs=n_samples)\n",
        "  info_dict = sample_set.info['timing'].copy()\n",
        "\n",
        "  start_time = time.time()\n",
        "  samples_df = sample_set.to_pandas_dataframe()\n",
        "  sample_fetch_time = time.time() - start_time\n",
        "\n",
        "  info_dict['problem_formulation_time'] = problem_formulation_time\n",
        "  info_dict['connection_time'] = connection_time\n",
        "  info_dict['embedding_time'] = embedding_time\n",
        "  info_dict['response_time'] = response_time\n",
        "  info_dict['sample_fetch_time'] = sample_fetch_time\n",
        "  return samples_df, info_dict"
      ]
    },
    {
      "cell_type": "code",
      "source": [
        "def decode_binary_string(x, height, width):\n",
        "  mask = np.zeros([height, width])\n",
        "  for index,segment in enumerate(x):\n",
        "    mask[index//width,index%width]=segment\n",
        "  return mask"
      ],
      "metadata": {
        "id": "kYahCpXsq2dy"
      },
      "execution_count": 130,
      "outputs": []
    },
    {
      "cell_type": "code",
      "source": [],
      "metadata": {
        "id": "0YW-NRbSq2bb"
      },
      "execution_count": 130,
      "outputs": []
    },
    {
      "cell_type": "markdown",
      "source": [
        "### Create a sample Image"
      ],
      "metadata": {
        "id": "VH8MLDeqaY4o"
      }
    },
    {
      "cell_type": "code",
      "source": [
        "height,width = 3,3\n",
        "\n",
        "image = np.array([\n",
        "       [0.82,  0.1, 0.99],\n",
        "       [0.83,  0.2, 0.95],\n",
        "       [0.1,  0.05, 0.98]\n",
        "       ])\n",
        "plt.imshow(image, cmap=plt.cm.gray)"
      ],
      "metadata": {
        "colab": {
          "base_uri": "https://localhost:8080/",
          "height": 452
        },
        "id": "hTw9PaaBb4FP",
        "outputId": "79bdfd9a-8e33-4156-f03c-90ce9c12a708"
      },
      "execution_count": 119,
      "outputs": [
        {
          "output_type": "execute_result",
          "data": {
            "text/plain": [
              "<matplotlib.image.AxesImage at 0x7ad2cee37790>"
            ]
          },
          "metadata": {},
          "execution_count": 119
        },
        {
          "output_type": "display_data",
          "data": {
            "text/plain": [
              "<Figure size 640x480 with 1 Axes>"
            ],
            "image/png": "[encoded data removed]"
          },
          "metadata": {}
        }
      ]
    },
    {
      "cell_type": "markdown",
      "source": [
        "### Convert Image to Graph"
      ],
      "metadata": {
        "id": "Sm4Gxf18t29p"
      }
    },
    {
      "cell_type": "code",
      "source": [
        "normalized_nx_elist = image_to_grid_graph(image)  # We are using Guassian similarity metric as the edge weight metric\n",
        "G = nx.grid_2d_graph(image.shape[0], image.shape[1])\n",
        "G.add_weighted_edges_from(normalized_nx_elist)\n",
        "draw(G, image)"
      ],
      "metadata": {
        "colab": {
          "base_uri": "https://localhost:8080/",
          "height": 499
        },
        "id": "32brLSSOlJ4_",
        "outputId": "ba2f3ca6-43fc-49c1-cf92-be0e30d6d7e0"
      },
      "execution_count": 121,
      "outputs": [
        {
          "output_type": "display_data",
          "data": {
            "text/plain": [
              "<Figure size 600x600 with 1 Axes>"
            ],
            "image/png": "[encoded data removed]"
          },
          "metadata": {}
        }
      ]
    },
    {
      "cell_type": "markdown",
      "source": [
        "### Solve using D-Wave annealer"
      ],
      "metadata": {
        "id": "bIlpQIJiuyHE"
      }
    },
    {
      "cell_type": "code",
      "source": [
        "start_time = time.time()\n",
        "samples_dataframe, execution_info_dict = annealer_solver(G, private_token = 'jul-5215c8008132f206eba40344f90b0cfe8a586600')\n",
        "total_time = time.time()-start_time\n",
        "execution_info_dict['total_time'] = total_time\n",
        "execution_info_dict"
      ],
      "metadata": {
        "colab": {
          "base_uri": "https://localhost:8080/"
        },
        "id": "caF70s_ylJz6",
        "outputId": "b81bdc68-4289-4e1b-c2e6-4d7eec8a7abd"
      },
      "execution_count": 134,
      "outputs": [
        {
          "output_type": "execute_result",
          "data": {
            "text/plain": [
              "{'qpu_sampling_time': 222800.0,\n",
              " 'qpu_anneal_time_per_sample': 20.0,\n",
              " 'qpu_readout_time_per_sample': 70.86,\n",
              " 'qpu_access_time': 238725.57,\n",
              " 'qpu_access_overhead_time': 1191.43,\n",
              " 'qpu_programming_time': 15925.57,\n",
              " 'qpu_delay_time_per_sample': 20.54,\n",
              " 'total_post_processing_time': 337.0,\n",
              " 'post_processing_overhead_time': 337.0,\n",
              " 'problem_formulation_time': 0.01840686798095703,\n",
              " 'connection_time': 4.283363103866577,\n",
              " 'embedding_time': 0.14559245109558105,\n",
              " 'response_time': 0.08754682540893555,\n",
              " 'sample_fetch_time': 0.0025017261505126953,\n",
              " 'total_time': 6.373000144958496}"
            ]
          },
          "metadata": {},
          "execution_count": 134
        }
      ]
    },
    {
      "cell_type": "markdown",
      "source": [
        "### All samples received"
      ],
      "metadata": {
        "id": "l0NvE4FuwxGD"
      }
    },
    {
      "cell_type": "code",
      "source": [
        "samples_dataframe"
      ],
      "metadata": {
        "colab": {
          "base_uri": "https://localhost:8080/",
          "height": 206
        },
        "id": "sO3Wb2nblJxH",
        "outputId": "3f55c683-1893-488e-ff48-8394d144efc8"
      },
      "execution_count": 136,
      "outputs": [
        {
          "output_type": "execute_result",
          "data": {
            "text/plain": [
              "   0  1  2  3  4  5  6  7  8  chain_break_fraction  energy  num_occurrences\n",
              "0  0  1  0  0  1  0  1  1  0                   0.0 -4.0870              998\n",
              "1  1  0  1  1  0  1  0  0  1                   0.0 -4.0830              998\n",
              "2  0  1  0  0  1  0  0  1  0                   0.0 -2.4902                1\n",
              "3  0  1  1  0  1  0  1  1  0                   0.0 -2.1522                1\n",
              "4  1  0  0  1  0  1  0  0  1                   0.0 -2.1520                2"
            ],
            "text/html": [
              "\n",
              "  <div id=\"df-203408a0-bca5-465b-8f10-46b341d0bcab\" class=\"colab-df-container\">\n",
              "    <div>\n",
              "<style scoped>\n",
              "    .dataframe tbody tr th:only-of-type {\n",
              "        vertical-align: middle;\n",
              "    }\n",
              "\n",
              "    .dataframe tbody tr th {\n",
              "        vertical-align: top;\n",
              "    }\n",
              "\n",
              "    .dataframe thead th {\n",
              "        text-align: right;\n",
              "    }\n",
              "</style>\n",
              "<table border=\"1\" class=\"dataframe\">\n",
              "  <thead>\n",
              "    <tr style=\"text-align: right;\">\n",
              "      <th></th>\n",
              "      <th>0</th>\n",
              "      <th>1</th>\n",
              "      <th>2</th>\n",
              "      <th>3</th>\n",
              "      <th>4</th>\n",
              "      <th>5</th>\n",
              "      <th>6</th>\n",
              "      <th>7</th>\n",
              "      <th>8</th>\n",
              "      <th>chain_break_fraction</th>\n",
              "      <th>energy</th>\n",
              "      <th>num_occurrences</th>\n",
              "    </tr>\n",
              "  </thead>\n",
              "  <tbody>\n",
              "    <tr>\n",
              "      <th>0</th>\n",
              "      <td>0</td>\n",
              "      <td>1</td>\n",
              "      <td>0</td>\n",
              "      <td>0</td>\n",
              "      <td>1</td>\n",
              "      <td>0</td>\n",
              "      <td>1</td>\n",
              "      <td>1</td>\n",
              "      <td>0</td>\n",
              "      <td>0.0</td>\n",
              "      <td>-4.0870</td>\n",
              "      <td>998</td>\n",
              "    </tr>\n",
              "    <tr>\n",
              "      <th>1</th>\n",
              "      <td>1</td>\n",
              "      <td>0</td>\n",
              "      <td>1</td>\n",
              "      <td>1</td>\n",
              "      <td>0</td>\n",
              "      <td>1</td>\n",
              "      <td>0</td>\n",
              "      <td>0</td>\n",
              "      <td>1</td>\n",
              "      <td>0.0</td>\n",
              "      <td>-4.0830</td>\n",
              "      <td>998</td>\n",
              "    </tr>\n",
              "    <tr>\n",
              "      <th>2</th>\n",
              "      <td>0</td>\n",
              "      <td>1</td>\n",
              "      <td>0</td>\n",
              "      <td>0</td>\n",
              "      <td>1</td>\n",
              "      <td>0</td>\n",
              "      <td>0</td>\n",
              "      <td>1</td>\n",
              "      <td>0</td>\n",
              "      <td>0.0</td>\n",
              "      <td>-2.4902</td>\n",
              "      <td>1</td>\n",
              "    </tr>\n",
              "    <tr>\n",
              "      <th>3</th>\n",
              "      <td>0</td>\n",
              "      <td>1</td>\n",
              "      <td>1</td>\n",
              "      <td>0</td>\n",
              "      <td>1</td>\n",
              "      <td>0</td>\n",
              "      <td>1</td>\n",
              "      <td>1</td>\n",
              "      <td>0</td>\n",
              "      <td>0.0</td>\n",
              "      <td>-2.1522</td>\n",
              "      <td>1</td>\n",
              "    </tr>\n",
              "    <tr>\n",
              "      <th>4</th>\n",
              "      <td>1</td>\n",
              "      <td>0</td>\n",
              "      <td>0</td>\n",
              "      <td>1</td>\n",
              "      <td>0</td>\n",
              "      <td>1</td>\n",
              "      <td>0</td>\n",
              "      <td>0</td>\n",
              "      <td>1</td>\n",
              "      <td>0.0</td>\n",
              "      <td>-2.1520</td>\n",
              "      <td>2</td>\n",
              "    </tr>\n",
              "  </tbody>\n",
              "</table>\n",
              "</div>\n",
              "    <div class=\"colab-df-buttons\">\n",
              "\n",
              "  <div class=\"colab-df-container\">\n",
              "    <button class=\"colab-df-convert\" onclick=\"convertToInteractive('df-203408a0-bca5-465b-8f10-46b341d0bcab')\"\n",
              "            title=\"Convert this dataframe to an interactive table.\"\n",
              "            style=\"display:none;\">\n",
              "\n",
              "  <svg xmlns=\"http://www.w3.org/2000/svg\" height=\"24px\" viewBox=\"0 -960 960 960\">\n",
              "    <path d=\"M120-120v-720h720v720H120Zm60-500h600v-160H180v160Zm220 220h160v-160H400v160Zm0 220h160v-160H400v160ZM180-400h160v-160H180v160Zm440 0h160v-160H620v160ZM180-180h160v-160H180v160Zm440 0h160v-160H620v160Z\"/>\n",
              "  </svg>\n",
              "    </button>\n",
              "\n",
              "  <style>\n",
              "    .colab-df-container {\n",
              "      display:flex;\n",
              "      gap: 12px;\n",
              "    }\n",
              "\n",
              "    .colab-df-convert {\n",
              "      background-color: #E8F0FE;\n",
              "      border: none;\n",
              "      border-radius: 50%;\n",
              "      cursor: pointer;\n",
              "      display: none;\n",
              "      fill: #1967D2;\n",
              "      height: 32px;\n",
              "      padding: 0 0 0 0;\n",
              "      width: 32px;\n",
              "    }\n",
              "\n",
              "    .colab-df-convert:hover {\n",
              "      background-color: #E2EBFA;\n",
              "      box-shadow: 0px 1px 2px rgba(60, 64, 67, 0.3), 0px 1px 3px 1px rgba(60, 64, 67, 0.15);\n",
              "      fill: #174EA6;\n",
              "    }\n",
              "\n",
              "    .colab-df-buttons div {\n",
              "      margin-bottom: 4px;\n",
              "    }\n",
              "\n",
              "    [theme=dark] .colab-df-convert {\n",
              "      background-color: #3B4455;\n",
              "      fill: #D2E3FC;\n",
              "    }\n",
              "\n",
              "    [theme=dark] .colab-df-convert:hover {\n",
              "      background-color: #434B5C;\n",
              "      box-shadow: 0px 1px 3px 1px rgba(0, 0, 0, 0.15);\n",
              "      filter: drop-shadow(0px 1px 2px rgba(0, 0, 0, 0.3));\n",
              "      fill: #FFFFFF;\n",
              "    }\n",
              "  </style>\n",
              "\n",
              "    <script>\n",
              "      const buttonEl =\n",
              "        document.querySelector('#df-203408a0-bca5-465b-8f10-46b341d0bcab button.colab-df-convert');\n",
              "      buttonEl.style.display =\n",
              "        google.colab.kernel.accessAllowed ? 'block' : 'none';\n",
              "\n",
              "      async function convertToInteractive(key) {\n",
              "        const element = document.querySelector('#df-203408a0-bca5-465b-8f10-46b341d0bcab');\n",
              "        const dataTable =\n",
              "          await google.colab.kernel.invokeFunction('convertToInteractive',\n",
              "                                                    [key], {});\n",
              "        if (!dataTable) return;\n",
              "\n",
              "        const docLinkHtml = 'Like what you see? Visit the ' +\n",
              "          '<a target=\"_blank\" href=https://colab.research.google.com/notebooks/data_table.ipynb>data table notebook</a>'\n",
              "          + ' to learn more about interactive tables.';\n",
              "        element.innerHTML = '';\n",
              "        dataTable['output_type'] = 'display_data';\n",
              "        await google.colab.output.renderOutput(dataTable, element);\n",
              "        const docLink = document.createElement('div');\n",
              "        docLink.innerHTML = docLinkHtml;\n",
              "        element.appendChild(docLink);\n",
              "      }\n",
              "    </script>\n",
              "  </div>\n",
              "\n",
              "\n",
              "<div id=\"df-292ddb84-989f-48d5-881f-3a799cb7cc42\">\n",
              "  <button class=\"colab-df-quickchart\" onclick=\"quickchart('df-292ddb84-989f-48d5-881f-3a799cb7cc42')\"\n",
              "            title=\"Suggest charts\"\n",
              "            style=\"display:none;\">\n",
              "\n",
              "<svg xmlns=\"http://www.w3.org/2000/svg\" height=\"24px\"viewBox=\"0 0 24 24\"\n",
              "     width=\"24px\">\n",
              "    <g>\n",
              "        <path d=\"M19 3H5c-1.1 0-2 .9-2 2v14c0 1.1.9 2 2 2h14c1.1 0 2-.9 2-2V5c0-1.1-.9-2-2-2zM9 17H7v-7h2v7zm4 0h-2V7h2v10zm4 0h-2v-4h2v4z\"/>\n",
              "    </g>\n",
              "</svg>\n",
              "  </button>\n",
              "\n",
              "<style>\n",
              "  .colab-df-quickchart {\n",
              "      --bg-color: #E8F0FE;\n",
              "      --fill-color: #1967D2;\n",
              "      --hover-bg-color: #E2EBFA;\n",
              "      --hover-fill-color: #174EA6;\n",
              "      --disabled-fill-color: #AAA;\n",
              "      --disabled-bg-color: #DDD;\n",
              "  }\n",
              "\n",
              "  [theme=dark] .colab-df-quickchart {\n",
              "      --bg-color: #3B4455;\n",
              "      --fill-color: #D2E3FC;\n",
              "      --hover-bg-color: #434B5C;\n",
              "      --hover-fill-color: #FFFFFF;\n",
              "      --disabled-bg-color: #3B4455;\n",
              "      --disabled-fill-color: #666;\n",
              "  }\n",
              "\n",
              "  .colab-df-quickchart {\n",
              "    background-color: var(--bg-color);\n",
              "    border: none;\n",
              "    border-radius: 50%;\n",
              "    cursor: pointer;\n",
              "    display: none;\n",
              "    fill: var(--fill-color);\n",
              "    height: 32px;\n",
              "    padding: 0;\n",
              "    width: 32px;\n",
              "  }\n",
              "\n",
              "  .colab-df-quickchart:hover {\n",
              "    background-color: var(--hover-bg-color);\n",
              "    box-shadow: 0 1px 2px rgba(60, 64, 67, 0.3), 0 1px 3px 1px rgba(60, 64, 67, 0.15);\n",
              "    fill: var(--button-hover-fill-color);\n",
              "  }\n",
              "\n",
              "  .colab-df-quickchart-complete:disabled,\n",
              "  .colab-df-quickchart-complete:disabled:hover {\n",
              "    background-color: var(--disabled-bg-color);\n",
              "    fill: var(--disabled-fill-color);\n",
              "    box-shadow: none;\n",
              "  }\n",
              "\n",
              "  .colab-df-spinner {\n",
              "    border: 2px solid var(--fill-color);\n",
              "    border-color: transparent;\n",
              "    border-bottom-color: var(--fill-color);\n",
              "    animation:\n",
              "      spin 1s steps(1) infinite;\n",
              "  }\n",
              "\n",
              "  @keyframes spin {\n",
              "    0% {\n",
              "      border-color: transparent;\n",
              "      border-bottom-color: var(--fill-color);\n",
              "      border-left-color: var(--fill-color);\n",
              "    }\n",
              "    20% {\n",
              "      border-color: transparent;\n",
              "      border-left-color: var(--fill-color);\n",
              "      border-top-color: var(--fill-color);\n",
              "    }\n",
              "    30% {\n",
              "      border-color: transparent;\n",
              "      border-left-color: var(--fill-color);\n",
              "      border-top-color: var(--fill-color);\n",
              "      border-right-color: var(--fill-color);\n",
              "    }\n",
              "    40% {\n",
              "      border-color: transparent;\n",
              "      border-right-color: var(--fill-color);\n",
              "      border-top-color: var(--fill-color);\n",
              "    }\n",
              "    60% {\n",
              "      border-color: transparent;\n",
              "      border-right-color: var(--fill-color);\n",
              "    }\n",
              "    80% {\n",
              "      border-color: transparent;\n",
              "      border-right-color: var(--fill-color);\n",
              "      border-bottom-color: var(--fill-color);\n",
              "    }\n",
              "    90% {\n",
              "      border-color: transparent;\n",
              "      border-bottom-color: var(--fill-color);\n",
              "    }\n",
              "  }\n",
              "</style>\n",
              "\n",
              "  <script>\n",
              "    async function quickchart(key) {\n",
              "      const quickchartButtonEl =\n",
              "        document.querySelector('#' + key + ' button');\n",
              "      quickchartButtonEl.disabled = true;  // To prevent multiple clicks.\n",
              "      quickchartButtonEl.classList.add('colab-df-spinner');\n",
              "      try {\n",
              "        const charts = await google.colab.kernel.invokeFunction(\n",
              "            'suggestCharts', [key], {});\n",
              "      } catch (error) {\n",
              "        console.error('Error during call to suggestCharts:', error);\n",
              "      }\n",
              "      quickchartButtonEl.classList.remove('colab-df-spinner');\n",
              "      quickchartButtonEl.classList.add('colab-df-quickchart-complete');\n",
              "    }\n",
              "    (() => {\n",
              "      let quickchartButtonEl =\n",
              "        document.querySelector('#df-292ddb84-989f-48d5-881f-3a799cb7cc42 button');\n",
              "      quickchartButtonEl.style.display =\n",
              "        google.colab.kernel.accessAllowed ? 'block' : 'none';\n",
              "    })();\n",
              "  </script>\n",
              "</div>\n",
              "    </div>\n",
              "  </div>\n"
            ]
          },
          "metadata": {},
          "execution_count": 136
        }
      ]
    },
    {
      "cell_type": "markdown",
      "source": [
        "### Decode binary solution string to a binary segmentation mask"
      ],
      "metadata": {
        "id": "NxC1TdWRw4_P"
      }
    },
    {
      "cell_type": "code",
      "source": [
        "solution_binary_string = samples_dataframe.iloc[0][:-3]\n",
        "segmentation_mask = decode_binary_string(solution_binary_string, height, width)\n",
        "plt.imshow(segmentation_mask, cmap=plt.cm.gray)"
      ],
      "metadata": {
        "colab": {
          "base_uri": "https://localhost:8080/",
          "height": 452
        },
        "id": "4vXlBjxRlJrQ",
        "outputId": "423730b2-de6a-4e36-b1e3-514f4ec91b30"
      },
      "execution_count": 138,
      "outputs": [
        {
          "output_type": "execute_result",
          "data": {
            "text/plain": [
              "<matplotlib.image.AxesImage at 0x7ad2cf12f340>"
            ]
          },
          "metadata": {},
          "execution_count": 138
        },
        {
          "output_type": "display_data",
          "data": {
            "text/plain": [
              "<Figure size 640x480 with 1 Axes>"
            ],
            "image/png": "[encoded data removed]"
          },
          "metadata": {}
        }
      ]
    },
    {
      "cell_type": "code",
      "source": [],
      "metadata": {
        "id": "WHHIPgatsr5_"
      },
      "execution_count": 137,
      "outputs": []
    }
  ],
  "metadata": {
    "colab": {
      "collapsed_sections": [
        "15HtXN2NoVb1",
        "vy44j3zSoYuw",
        "752InhCl1Hag",
        "uXwa-vSiojGG",
        "CNYU7X0LoquZ",
        "TTtjsUSK3xi6"
      ],
      "provenance": []
    },
    "kernelspec": {
      "display_name": "Python 3",
      "name": "python3"
    },
    "language_info": {
      "name": "python"
    }
  },
  "nbformat": 4,
  "nbformat_minor": 0
}